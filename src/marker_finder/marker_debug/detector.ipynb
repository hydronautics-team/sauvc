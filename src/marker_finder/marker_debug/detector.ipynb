{
 "cells": [
  {
   "cell_type": "code",
   "execution_count": 1,
   "metadata": {},
   "outputs": [],
   "source": [
    "import cv2\n",
    "import numpy as np\n",
    "from matplotlib import pyplot as plt\n",
    "import imutils\n",
    "import random as rng"
   ]
  },
  {
   "cell_type": "code",
   "execution_count": 2,
   "metadata": {},
   "outputs": [],
   "source": [
    "frame = cv2.imread(\"ball.png\")\n",
    "# frame = cv2.imread(\"marker.png\")\n",
    "#frame = cv2.imread(\"gray_ball.png\")\n",
    "blurred = cv2.GaussianBlur(frame, (5, 5), 3)\n",
    "hsl_and_blurred = cv2.cvtColor(blurred, cv2.COLOR_BGR2HLS)"
   ]
  },
  {
   "cell_type": "code",
   "execution_count": 3,
   "metadata": {},
   "outputs": [],
   "source": [
    "light_channel = np.array(hsl_and_blurred[::1])\n",
    "max_light = light_channel.max()\n",
    "obj_light = 0.6\n",
    "light_border_value = int(max_light*obj_light)"
   ]
  },
  {
   "cell_type": "code",
   "execution_count": 4,
   "metadata": {},
   "outputs": [],
   "source": [
    "saturation_channel = np.array(hsl_and_blurred[:1:])\n",
    "max_saturation = saturation_channel.max()\n",
    "obj_saturation = 0.1\n",
    "saturation_border_value = int(max_saturation*obj_saturation)"
   ]
  },
  {
   "cell_type": "code",
   "execution_count": 5,
   "metadata": {},
   "outputs": [],
   "source": [
    "\n",
    "upper_white = np.array([255, 255, 255])\n",
    "lower_white = np.array([0, light_border_value, saturation_border_value])\n",
    "mask = cv2.inRange(hsl_and_blurred, lower_white, upper_white)\n",
    "mask = cv2.dilate(mask, None, iterations=10)\n",
    "mask = cv2.erode(mask, None, iterations=10)"
   ]
  },
  {
   "cell_type": "code",
   "execution_count": 6,
   "metadata": {},
   "outputs": [],
   "source": [
    "contours = cv2.findContours(mask, cv2.RETR_TREE, cv2.CHAIN_APPROX_SIMPLE)\n",
    "contours = imutils.grab_contours(contours)\n",
    "bounding_rectangles = []\n",
    "biggest_rectangle = 0\n",
    "max_area = 0\n",
    "for contour in contours:\n",
    "    approx_contour = cv2.approxPolyDP(contour, 15, True)\n",
    "    bounding_rectangles.append(cv2.boundingRect(approx_contour))\n",
    "    \n",
    "    area = bounding_rectangles[-1][2] * bounding_rectangles[-1][3]\n",
    "    if area > max_area:\n",
    "        biggest_rectangle = bounding_rectangles[-1]\n",
    "        max_area = area\n",
    "    "
   ]
  },
  {
   "cell_type": "code",
   "execution_count": 7,
   "metadata": {},
   "outputs": [],
   "source": [
    "drawing = frame\n",
    "\n",
    "rng.seed(12345)\n",
    "\n",
    "for i in range(len(contours)):\n",
    "    color = (160, 32, 240)\n",
    "    cv2.rectangle(drawing, (int(bounding_rectangles[i][0]), int(bounding_rectangles[i][1])), \\\n",
    "      (int(bounding_rectangles[i][0]+bounding_rectangles[i][2]), int(bounding_rectangles[i][1]+bounding_rectangles[i][3])), color, 20)"
   ]
  },
  {
   "cell_type": "code",
   "execution_count": 8,
   "metadata": {},
   "outputs": [
    {
     "data": {
      "text/plain": "Text(0.5, 1.0, 'Final')"
     },
     "execution_count": 8,
     "metadata": {},
     "output_type": "execute_result"
    },
    {
     "data": {
      "text/plain": "<Figure size 1000x700 with 2 Axes>",
      "image/png": "[encoded data removed]"
     },
     "metadata": {},
     "output_type": "display_data"
    }
   ],
   "source": [
    "fig = plt.figure(figsize=(10, 7))\n",
    "rows = 1\n",
    "cols = 2\n",
    "\n",
    "fig.add_subplot(rows, cols, 1)\n",
    "plt.imshow(mask)\n",
    "plt.axis('off')\n",
    "plt.title(\"Masked\")\n",
    "\n",
    "fig.add_subplot(rows, cols, 2)\n",
    "plt.imshow(drawing)\n",
    "plt.axis('off')\n",
    "plt.title(\"Final\")"
   ]
  },
  {
   "cell_type": "code",
   "execution_count": 8,
   "outputs": [],
   "source": [],
   "metadata": {
    "collapsed": false
   }
  }
 ],
 "metadata": {
  "kernelspec": {
   "display_name": "Python 3.8.10 64-bit",
   "language": "python",
   "name": "python3"
  },
  "language_info": {
   "codemirror_mode": {
    "name": "ipython",
    "version": 3
   },
   "file_extension": ".py",
   "mimetype": "text/x-python",
   "name": "python",
   "nbconvert_exporter": "python",
   "pygments_lexer": "ipython3",
   "version": "3.8.10"
  },
  "orig_nbformat": 4,
  "vscode": {
   "interpreter": {
    "hash": "916dbcbb3f70747c44a77c7bcd40155683ae19c65e1c03b4aa3499c5328201f1"
   }
  }
 },
 "nbformat": 4,
 "nbformat_minor": 2
}
